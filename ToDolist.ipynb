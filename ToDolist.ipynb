{
  "nbformat": 4,
  "nbformat_minor": 0,
  "metadata": {
    "colab": {
      "provenance": [],
      "authorship_tag": "ABX9TyM50/cCvYYuBfIkU8fn1l9H",
      "include_colab_link": true
    },
    "kernelspec": {
      "name": "python3",
      "display_name": "Python 3"
    },
    "language_info": {
      "name": "python"
    }
  },
  "cells": [
    {
      "cell_type": "markdown",
      "metadata": {
        "id": "view-in-github",
        "colab_type": "text"
      },
      "source": [
        "<a href=\"https://colab.research.google.com/github/fumiya-sakabe/python_production/blob/main/ToDolist.ipynb\" target=\"_parent\"><img src=\"https://colab.research.google.com/assets/colab-badge.svg\" alt=\"Open In Colab\"/></a>"
      ]
    },
    {
      "cell_type": "code",
      "execution_count": 10,
      "metadata": {
        "colab": {
          "base_uri": "https://localhost:8080/"
        },
        "id": "N-oAZMrbLI53",
        "outputId": "b109d580-760b-4dc1-e794-ded61198d062"
      },
      "outputs": [
        {
          "name": "stdout",
          "output_type": "stream",
          "text": [
            "ToDoリストアプリ\n",
            "1. タスクを追加する\n",
            "2. タスクを表示する\n",
            "3. アプリを終了する\n",
            "選択してください1\n",
            "タスクを入力してください:ショッピング\n",
            "タスクを追加しました\n",
            "ToDoリストアプリ\n",
            "1. タスクを追加する\n",
            "2. タスクを表示する\n",
            "3. アプリを終了する\n",
            "選択してください3\n"
          ]
        }
      ],
      "source": [
        "tasks =[]\n",
        "\n",
        "def add_task(task):\n",
        "    tasks.append(task)\n",
        "    print(\"タスクを追加しました\")\n",
        "\n",
        "def show_tasks():\n",
        "    if len(tasks) == 0:\n",
        "        print(\"タスクはありません\")\n",
        "    else:\n",
        "        print(\"タスク:\")\n",
        "        for task in tasks:\n",
        "            print(task)\n",
        "\n",
        "def show_menu():\n",
        "    print(\"ToDoリストアプリ\")\n",
        "    print(\"1. タスクを追加する\")\n",
        "    print(\"2. タスクを表示する\")\n",
        "    print(\"3. アプリを終了する\")\n",
        "\n",
        "while True:\n",
        "    show_menu()\n",
        "    choice =input(\"選択してください\")\n",
        "    if choice == \"1\":\n",
        "        task = input(\"タスクを入力してください:\")\n",
        "        add_task(task)\n",
        "    elif choice == \"2\":\n",
        "        show_tasks()\n",
        "    elif choice == \"3\":\n",
        "        break\n",
        "    else:\n",
        "        print(\"無効な入力です\")"
      ]
    }
  ]
}